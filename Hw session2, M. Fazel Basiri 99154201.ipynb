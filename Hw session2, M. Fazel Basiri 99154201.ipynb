{
 "cells": [
  {
   "cell_type": "markdown",
   "id": "1fa1bd28-047d-4996-9588-75c1281ef9c8",
   "metadata": {},
   "source": [
    "**Advance Programming, 2nd session, HW**"
   ]
  },
  {
   "cell_type": "markdown",
   "id": "877d57f0-4d94-4eeb-b282-9c14e30a2926",
   "metadata": {},
   "source": [
    "**1.**"
   ]
  },
  {
   "cell_type": "code",
   "execution_count": 17,
   "id": "1ab3ccd2-d368-4f30-a208-74d1de213d2b",
   "metadata": {},
   "outputs": [
    {
     "name": "stdout",
     "output_type": "stream",
     "text": [
      "10\n"
     ]
    }
   ],
   "source": [
    "def sum_of_list(input_list):\n",
    "    return sum(input_list)\n",
    "    \n",
    "input_list=[1,2,3,4]\n",
    "output=sum_of_list(input_list)\n",
    "print(output)"
   ]
  },
  {
   "cell_type": "markdown",
   "id": "ae017d16-76e9-4d09-aadb-2f4599b27147",
   "metadata": {},
   "source": [
    "**2.**"
   ]
  },
  {
   "cell_type": "code",
   "execution_count": 18,
   "id": "b291236b-3bbe-4c57-8911-cc831957bbef",
   "metadata": {},
   "outputs": [
    {
     "name": "stdout",
     "output_type": "stream",
     "text": [
      "True\n"
     ]
    }
   ],
   "source": [
    "def check_key(dict1, key):\n",
    "    return key in dict1\n",
    "dict1= {'name':'Fazel', 'age':25, 'last name':'Basiri'}\n",
    "key='age'\n",
    "result= check_key(dict1, key)\n",
    "print(result)"
   ]
  },
  {
   "cell_type": "markdown",
   "id": "7661d6c6-1044-4a70-beab-4b8488de4308",
   "metadata": {},
   "source": [
    "**3.**"
   ]
  },
  {
   "cell_type": "code",
   "execution_count": 20,
   "id": "4f224aa2-c935-4979-bb1a-31b2172ef96c",
   "metadata": {},
   "outputs": [
    {
     "data": {
      "text/plain": [
       "'olleH'"
      ]
     },
     "execution_count": 20,
     "metadata": {},
     "output_type": "execute_result"
    }
   ],
   "source": [
    "s= \"Hello\"\n",
    "def reverse_string(input_string):\n",
    "    return input_string[::-1]\n",
    "input_string= \"Hello\"\n",
    "output_string= reverse_string(input_string)\n",
    "output_string"
   ]
  }
 ],
 "metadata": {
  "kernelspec": {
   "display_name": "Python 3 (ipykernel)",
   "language": "python",
   "name": "python3"
  },
  "language_info": {
   "codemirror_mode": {
    "name": "ipython",
    "version": 3
   },
   "file_extension": ".py",
   "mimetype": "text/x-python",
   "name": "python",
   "nbconvert_exporter": "python",
   "pygments_lexer": "ipython3",
   "version": "3.11.7"
  }
 },
 "nbformat": 4,
 "nbformat_minor": 5
}
